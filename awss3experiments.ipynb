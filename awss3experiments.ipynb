{
 "cells": [
  {
   "cell_type": "code",
   "execution_count": 40,
   "metadata": {},
   "outputs": [],
   "source": [
    "import json"
   ]
  },
  {
   "cell_type": "code",
   "execution_count": 1,
   "metadata": {},
   "outputs": [],
   "source": [
    "import boto3"
   ]
  },
  {
   "cell_type": "code",
   "execution_count": 25,
   "metadata": {},
   "outputs": [],
   "source": [
    "import botocore"
   ]
  },
  {
   "cell_type": "code",
   "execution_count": 2,
   "metadata": {},
   "outputs": [],
   "source": [
    "s3 = boto3.client('s3')"
   ]
  },
  {
   "cell_type": "markdown",
   "metadata": {},
   "source": [
    "listing s3 buckets"
   ]
  },
  {
   "cell_type": "code",
   "execution_count": 3,
   "metadata": {},
   "outputs": [],
   "source": [
    "response=s3.list_buckets()"
   ]
  },
  {
   "cell_type": "code",
   "execution_count": 5,
   "metadata": {},
   "outputs": [],
   "source": [
    "buckets = [bucket['Name'] for bucket in response['Buckets']]"
   ]
  },
  {
   "cell_type": "code",
   "execution_count": 6,
   "metadata": {},
   "outputs": [
    {
     "name": "stdout",
     "output_type": "stream",
     "text": [
      "Bucket list %s ['cf-templates-139d6ooh74c7w-us-east-1', 'elasticbeanstalk-us-east-1-785422653836', 'fahmidajoyti.de']\n"
     ]
    }
   ],
   "source": [
    "print(\"Bucket list %s\", buckets)"
   ]
  },
  {
   "cell_type": "code",
   "execution_count": 17,
   "metadata": {},
   "outputs": [],
   "source": [
    "response =s3.create_bucket(ACL= 'public-read',Bucket='s3experimentbucket12-fahmida',CreateBucketConfiguration={'LocationConstraint': 'us-west-2'})"
   ]
  },
  {
   "cell_type": "code",
   "execution_count": 18,
   "metadata": {},
   "outputs": [
    {
     "name": "stdout",
     "output_type": "stream",
     "text": [
      "{'ResponseMetadata': {'RequestId': 'B44E06C1474FA952', 'HostId': 'ixVvi0g+ztcTji3dqLCMMMAnpaBxhSzlMflomBLtD5id4KvNStvTsHBoG3vcheiW0k6jKmFlpFg=', 'HTTPStatusCode': 200, 'HTTPHeaders': {'x-amz-id-2': 'ixVvi0g+ztcTji3dqLCMMMAnpaBxhSzlMflomBLtD5id4KvNStvTsHBoG3vcheiW0k6jKmFlpFg=', 'x-amz-request-id': 'B44E06C1474FA952', 'date': 'Mon, 03 Dec 2018 15:59:17 GMT', 'location': 'http://s3experimentbucket12-fahmida.s3.amazonaws.com/', 'content-length': '0', 'server': 'AmazonS3'}, 'RetryAttempts': 0}, 'Location': 'http://s3experimentbucket12-fahmida.s3.amazonaws.com/'}\n"
     ]
    }
   ],
   "source": [
    "print(response)"
   ]
  },
  {
   "cell_type": "code",
   "execution_count": 19,
   "metadata": {},
   "outputs": [
    {
     "data": {
      "text/plain": [
       "{'Location': '/blabla-fahmidabucket',\n",
       " 'ResponseMetadata': {'HTTPHeaders': {'content-length': '0',\n",
       "   'date': 'Mon, 03 Dec 2018 16:03:29 GMT',\n",
       "   'location': '/blabla-fahmidabucket',\n",
       "   'server': 'AmazonS3',\n",
       "   'x-amz-id-2': 'VIjb0hqOpAT6q3KUELhkUoRVTB0fsz+uRn0R3xVo73NQ9WRham75g9G0AL/gjA7u4Pi8bmtmjCc=',\n",
       "   'x-amz-request-id': 'FE8D6ADBF3EBB9FB'},\n",
       "  'HTTPStatusCode': 200,\n",
       "  'HostId': 'VIjb0hqOpAT6q3KUELhkUoRVTB0fsz+uRn0R3xVo73NQ9WRham75g9G0AL/gjA7u4Pi8bmtmjCc=',\n",
       "  'RequestId': 'FE8D6ADBF3EBB9FB',\n",
       "  'RetryAttempts': 0}}"
      ]
     },
     "execution_count": 19,
     "metadata": {},
     "output_type": "execute_result"
    }
   ],
   "source": [
    "s3.create_bucket(Bucket='blabla-fahmidabucket')"
   ]
  },
  {
   "cell_type": "code",
   "execution_count": 20,
   "metadata": {},
   "outputs": [
    {
     "data": {
      "text/plain": [
       "{'ResponseMetadata': {'HTTPHeaders': {'date': 'Mon, 03 Dec 2018 16:05:36 GMT',\n",
       "   'server': 'AmazonS3',\n",
       "   'x-amz-id-2': 'FyDTC2++g2OuUQRCQhdEl4d24DtZj6ApqSj8Ljq7e7sLTpPq05dIfcZC8Tt2XkYTuxv38r44hzs=',\n",
       "   'x-amz-request-id': '2AC4B93F708B6841'},\n",
       "  'HTTPStatusCode': 204,\n",
       "  'HostId': 'FyDTC2++g2OuUQRCQhdEl4d24DtZj6ApqSj8Ljq7e7sLTpPq05dIfcZC8Tt2XkYTuxv38r44hzs=',\n",
       "  'RequestId': '2AC4B93F708B6841',\n",
       "  'RetryAttempts': 1}}"
      ]
     },
     "execution_count": 20,
     "metadata": {},
     "output_type": "execute_result"
    }
   ],
   "source": [
    "s3.delete_bucket(Bucket='s3experimentbucket12-fahmida')"
   ]
  },
  {
   "cell_type": "markdown",
   "metadata": {},
   "source": [
    "create a file myfile.txt"
   ]
  },
  {
   "cell_type": "code",
   "execution_count": 21,
   "metadata": {},
   "outputs": [],
   "source": [
    "f=open(\"myfile.txt\",\"w+\")"
   ]
  },
  {
   "cell_type": "code",
   "execution_count": 22,
   "metadata": {},
   "outputs": [],
   "source": [
    "for i in range(10):\n",
    "    f.write(\"This is line %d\\r\\n\"%(i+1))"
   ]
  },
  {
   "cell_type": "code",
   "execution_count": 23,
   "metadata": {},
   "outputs": [],
   "source": [
    "f.close()"
   ]
  },
  {
   "cell_type": "markdown",
   "metadata": {},
   "source": [
    "upload myfile.txt in s3 bucket"
   ]
  },
  {
   "cell_type": "code",
   "execution_count": 24,
   "metadata": {},
   "outputs": [],
   "source": [
    "s3.upload_file(\"myfile.txt\",\"blabla-fahmidabucket\",\"fahmidafile.txt\")"
   ]
  },
  {
   "cell_type": "code",
   "execution_count": 27,
   "metadata": {},
   "outputs": [],
   "source": [
    "response =s3.download_file('blabla-fahmidabucket','fahmidafile.txt','fahmidafile.txt')"
   ]
  },
  {
   "cell_type": "markdown",
   "metadata": {},
   "source": [
    "put cors configuration"
   ]
  },
  {
   "cell_type": "code",
   "execution_count": 29,
   "metadata": {},
   "outputs": [],
   "source": [
    "cors_configuration = {'CORSRules':[{'AllowedHeaders':['Authorization'],\n",
    "                                    'AllowedMethods':['GET','PUT'],\n",
    "                                    'AllowedOrigins':['*'],\n",
    "                                     'ExposeHeaders': ['GET', 'PUT'],\n",
    "                                    'MaxAgeSeconds': 3000\n",
    "                                   }]}"
   ]
  },
  {
   "cell_type": "code",
   "execution_count": 30,
   "metadata": {},
   "outputs": [
    {
     "data": {
      "text/plain": [
       "{'ResponseMetadata': {'HTTPHeaders': {'content-length': '0',\n",
       "   'date': 'Mon, 03 Dec 2018 17:08:44 GMT',\n",
       "   'server': 'AmazonS3',\n",
       "   'x-amz-id-2': 'nOS2B8eO8e/qhmiwFZVXJjf9h2R1JG5pKyiT1fwaA4RhIh1Vz1O3vx3qXGVbTo90f5osvWacGnU=',\n",
       "   'x-amz-request-id': 'F13F0A1A203E89E6'},\n",
       "  'HTTPStatusCode': 200,\n",
       "  'HostId': 'nOS2B8eO8e/qhmiwFZVXJjf9h2R1JG5pKyiT1fwaA4RhIh1Vz1O3vx3qXGVbTo90f5osvWacGnU=',\n",
       "  'RequestId': 'F13F0A1A203E89E6',\n",
       "  'RetryAttempts': 0}}"
      ]
     },
     "execution_count": 30,
     "metadata": {},
     "output_type": "execute_result"
    }
   ],
   "source": [
    "s3.put_bucket_cors(Bucket='blabla-fahmidabucket',CORSConfiguration=cors_configuration)"
   ]
  },
  {
   "cell_type": "code",
   "execution_count": 31,
   "metadata": {},
   "outputs": [],
   "source": [
    "result = s3.get_bucket_cors(Bucket='blabla-fahmidabucket')"
   ]
  },
  {
   "cell_type": "code",
   "execution_count": 32,
   "metadata": {},
   "outputs": [
    {
     "name": "stdout",
     "output_type": "stream",
     "text": [
      "{'ResponseMetadata': {'RequestId': '6C3878288E4888FC', 'HostId': 'YoW3YR9GNGoR8b8O56vzpWNDZcEUi0v98FJ+uVhzF3BHeawga3abKQHMpXU6C6Qo2qV/ipLEiig=', 'HTTPStatusCode': 200, 'HTTPHeaders': {'x-amz-id-2': 'YoW3YR9GNGoR8b8O56vzpWNDZcEUi0v98FJ+uVhzF3BHeawga3abKQHMpXU6C6Qo2qV/ipLEiig=', 'x-amz-request-id': '6C3878288E4888FC', 'date': 'Mon, 03 Dec 2018 17:09:59 GMT', 'transfer-encoding': 'chunked', 'server': 'AmazonS3'}, 'RetryAttempts': 0}, 'CORSRules': [{'AllowedHeaders': ['Authorization'], 'AllowedMethods': ['GET', 'PUT'], 'AllowedOrigins': ['*'], 'ExposeHeaders': ['GET', 'PUT'], 'MaxAgeSeconds': 3000}]}\n"
     ]
    }
   ],
   "source": [
    "print(result)"
   ]
  },
  {
   "cell_type": "markdown",
   "metadata": {},
   "source": [
    "get bucket acl"
   ]
  },
  {
   "cell_type": "code",
   "execution_count": 33,
   "metadata": {},
   "outputs": [],
   "source": [
    "result = s3.get_bucket_acl(Bucket='blabla-fahmidabucket')"
   ]
  },
  {
   "cell_type": "code",
   "execution_count": 34,
   "metadata": {},
   "outputs": [
    {
     "name": "stdout",
     "output_type": "stream",
     "text": [
      "{'ResponseMetadata': {'RequestId': '567A8DA0070CFC13', 'HostId': 'vb9bHjzI0Nxs6Q37anMtvre4idYigofm7xJlRu/fdF535KXXvJi0fXg2JeXPseq87YVzXb/poys=', 'HTTPStatusCode': 200, 'HTTPHeaders': {'x-amz-id-2': 'vb9bHjzI0Nxs6Q37anMtvre4idYigofm7xJlRu/fdF535KXXvJi0fXg2JeXPseq87YVzXb/poys=', 'x-amz-request-id': '567A8DA0070CFC13', 'date': 'Mon, 03 Dec 2018 17:25:03 GMT', 'content-type': 'application/xml', 'transfer-encoding': 'chunked', 'server': 'AmazonS3'}, 'RetryAttempts': 0}, 'Owner': {'DisplayName': 'fam211092', 'ID': '3da32e21adb494be74a98bb95eff4d62875115dec2e8fe02dc7e2b69f7cc8f40'}, 'Grants': [{'Grantee': {'DisplayName': 'fam211092', 'ID': '3da32e21adb494be74a98bb95eff4d62875115dec2e8fe02dc7e2b69f7cc8f40', 'Type': 'CanonicalUser'}, 'Permission': 'FULL_CONTROL'}]}\n"
     ]
    }
   ],
   "source": [
    "print(result)"
   ]
  },
  {
   "cell_type": "markdown",
   "metadata": {},
   "source": [
    "get bucket policy"
   ]
  },
  {
   "cell_type": "code",
   "execution_count": 36,
   "metadata": {},
   "outputs": [],
   "source": [
    "result = s3.get_bucket_policy(Bucket='fahmidajoyti.de')"
   ]
  },
  {
   "cell_type": "code",
   "execution_count": 37,
   "metadata": {},
   "outputs": [
    {
     "name": "stdout",
     "output_type": "stream",
     "text": [
      "{'ResponseMetadata': {'RequestId': 'E9B307A203BD273B', 'HostId': 'Sw+/IrcE8enyed1mtDfWjPBu/PEDcRTUdY/aNUeuCsnwIQC2T32W3V9nAnEYjQYtaRBVvgzcEpU=', 'HTTPStatusCode': 200, 'HTTPHeaders': {'x-amz-id-2': 'Sw+/IrcE8enyed1mtDfWjPBu/PEDcRTUdY/aNUeuCsnwIQC2T32W3V9nAnEYjQYtaRBVvgzcEpU=', 'x-amz-request-id': 'E9B307A203BD273B', 'date': 'Mon, 03 Dec 2018 17:46:14 GMT', 'content-type': 'application/json', 'content-length': '194', 'server': 'AmazonS3'}, 'RetryAttempts': 0}, 'Policy': '{\"Version\":\"2012-10-17\",\"Id\":\"Policy1542387588545\",\"Statement\":[{\"Sid\":\"Stmt1542387587086\",\"Effect\":\"Allow\",\"Principal\":\"*\",\"Action\":\"s3:GetObject\",\"Resource\":\"arn:aws:s3:::fahmidajoyti.de/*\"}]}'}\n"
     ]
    }
   ],
   "source": [
    "print(result)"
   ]
  },
  {
   "cell_type": "code",
   "execution_count": 47,
   "metadata": {},
   "outputs": [],
   "source": [
    "bucket_policy={\n",
    "    \"Id\": \"Policy1543859544828\",\n",
    "    \"Version\": \"2012-10-17\",\n",
    "    \"Statement\": [\n",
    "        {\n",
    "            \"Sid\": \"Stmt1543859542788\",\n",
    "            \"Action\": [\n",
    "                \"s3:GetObject\"\n",
    "            ],\n",
    "            \"Effect\": \"Allow\",\n",
    "            \"Resource\": \"arn:aws:s3:::blabla-fahmidabucket/*\",\n",
    "            \"Principal\": \"*\"\n",
    "        }\n",
    "    ]\n",
    "}"
   ]
  },
  {
   "cell_type": "code",
   "execution_count": 48,
   "metadata": {},
   "outputs": [],
   "source": [
    "bucket_policy = json.dumps(bucket_policy)"
   ]
  },
  {
   "cell_type": "code",
   "execution_count": 49,
   "metadata": {},
   "outputs": [],
   "source": [
    "response =s3.put_bucket_policy(Bucket='blabla-fahmidabucket', Policy=bucket_policy)"
   ]
  },
  {
   "cell_type": "code",
   "execution_count": 50,
   "metadata": {},
   "outputs": [
    {
     "name": "stdout",
     "output_type": "stream",
     "text": [
      "{'ResponseMetadata': {'RequestId': 'CE05BC2F40BCD2E5', 'HostId': 'iOKKYX/DV4cMzW/HWCSwU8RaOzswVgtsh1YlO+f8p9dmX5RXQFBJqEGB6N7n5/KIsGNjkVqf8OY=', 'HTTPStatusCode': 204, 'HTTPHeaders': {'x-amz-id-2': 'iOKKYX/DV4cMzW/HWCSwU8RaOzswVgtsh1YlO+f8p9dmX5RXQFBJqEGB6N7n5/KIsGNjkVqf8OY=', 'x-amz-request-id': 'CE05BC2F40BCD2E5', 'date': 'Mon, 03 Dec 2018 17:55:05 GMT', 'server': 'AmazonS3'}, 'RetryAttempts': 0}}\n"
     ]
    }
   ],
   "source": [
    "print(response)"
   ]
  },
  {
   "cell_type": "code",
   "execution_count": 51,
   "metadata": {},
   "outputs": [],
   "source": [
    "result=s3.get_bucket_website(Bucket='fahmidajoyti.de')"
   ]
  },
  {
   "cell_type": "code",
   "execution_count": 52,
   "metadata": {},
   "outputs": [
    {
     "name": "stdout",
     "output_type": "stream",
     "text": [
      "{'ResponseMetadata': {'RequestId': '05DD7661FB0AFAEB', 'HostId': 'Zqkn0V9pD+6z/7Is0lt9Wt8mh0ZcVgZ4S72eazjmU4jNjSzGgsV6/PCew+oHS6HMMpd4sPT7Mhc=', 'HTTPStatusCode': 200, 'HTTPHeaders': {'x-amz-id-2': 'Zqkn0V9pD+6z/7Is0lt9Wt8mh0ZcVgZ4S72eazjmU4jNjSzGgsV6/PCew+oHS6HMMpd4sPT7Mhc=', 'x-amz-request-id': '05DD7661FB0AFAEB', 'date': 'Mon, 03 Dec 2018 18:00:48 GMT', 'content-type': 'application/xml', 'transfer-encoding': 'chunked', 'server': 'AmazonS3'}, 'RetryAttempts': 0}, 'IndexDocument': {'Suffix': 'index.html'}, 'ErrorDocument': {'Key': 'error.html'}}\n"
     ]
    }
   ],
   "source": [
    "print(result)"
   ]
  },
  {
   "cell_type": "code",
   "execution_count": 59,
   "metadata": {},
   "outputs": [],
   "source": [
    "BUCKET_NAME = 'blabla-fahmidabucket'"
   ]
  },
  {
   "cell_type": "markdown",
   "metadata": {},
   "source": [
    "delete objects from the S3 bucket"
   ]
  },
  {
   "cell_type": "code",
   "execution_count": 63,
   "metadata": {},
   "outputs": [
    {
     "name": "stdout",
     "output_type": "stream",
     "text": [
      "{'ResponseMetadata': {'RequestId': '9E7B2E941B3B16F3', 'HostId': '8Bd2C3qFF0fNpzYCOTMfP/zd2bLqAQH118VcFf/AMqOW/6YOms+xcPDKWU4IQjO67WghAhQ9Lfg=', 'HTTPStatusCode': 204, 'HTTPHeaders': {'x-amz-id-2': '8Bd2C3qFF0fNpzYCOTMfP/zd2bLqAQH118VcFf/AMqOW/6YOms+xcPDKWU4IQjO67WghAhQ9Lfg=', 'x-amz-request-id': '9E7B2E941B3B16F3', 'date': 'Mon, 03 Dec 2018 22:12:28 GMT', 'server': 'AmazonS3'}, 'RetryAttempts': 0}}\n"
     ]
    }
   ],
   "source": [
    "for key in s3.list_objects(Bucket=BUCKET_NAME)['Contents']:\n",
    "   \n",
    "    response = s3.delete_object(Bucket = BUCKET_NAME,Key=key['Key'])\n",
    "    print(response)"
   ]
  },
  {
   "cell_type": "markdown",
   "metadata": {},
   "source": [
    "Delete S3 bucket and print its status object ( can not delete an S3 bucket which is not empty)"
   ]
  },
  {
   "cell_type": "code",
   "execution_count": 64,
   "metadata": {},
   "outputs": [],
   "source": [
    "response = s3.delete_bucket(Bucket=BUCKET_NAME)"
   ]
  },
  {
   "cell_type": "code",
   "execution_count": 74,
   "metadata": {},
   "outputs": [
    {
     "name": "stdout",
     "output_type": "stream",
     "text": [
      "204\n"
     ]
    }
   ],
   "source": [
    "print(response['ResponseMetadata']['HTTPStatusCode'])"
   ]
  },
  {
   "cell_type": "code",
   "execution_count": null,
   "metadata": {},
   "outputs": [],
   "source": []
  }
 ],
 "metadata": {
  "kernelspec": {
   "display_name": "Python 3",
   "language": "python",
   "name": "python3"
  },
  "language_info": {
   "codemirror_mode": {
    "name": "ipython",
    "version": 3
   },
   "file_extension": ".py",
   "mimetype": "text/x-python",
   "name": "python",
   "nbconvert_exporter": "python",
   "pygments_lexer": "ipython3",
   "version": "3.6.4"
  }
 },
 "nbformat": 4,
 "nbformat_minor": 2
}
